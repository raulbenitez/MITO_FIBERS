{
  "nbformat": 4,
  "nbformat_minor": 0,
  "metadata": {
    "colab": {
      "name": "Segment_x63.ipynb",
      "provenance": [],
      "authorship_tag": "ABX9TyP+zvnd9Zlwz3YRw98ijUSs",
      "include_colab_link": true
    },
    "kernelspec": {
      "name": "python3",
      "display_name": "Python 3"
    }
  },
  "cells": [
    {
      "cell_type": "markdown",
      "metadata": {
        "id": "view-in-github",
        "colab_type": "text"
      },
      "source": [
        "<a href=\"https://colab.research.google.com/github/raulbenitez/MITO_FIBERS/blob/master/Segment_x63.ipynb\" target=\"_parent\"><img src=\"https://colab.research.google.com/assets/colab-badge.svg\" alt=\"Open In Colab\"/></a>"
      ]
    },
    {
      "cell_type": "code",
      "metadata": {
        "id": "VAtReBcXRiu-",
        "colab_type": "code",
        "colab": {
          "base_uri": "https://localhost:8080/",
          "height": 124
        },
        "outputId": "de09f601-ab5d-42e8-c762-f20820d94f4c"
      },
      "source": [
        "from google.colab import drive\n",
        "drive.mount('/content/drive')"
      ],
      "execution_count": 1,
      "outputs": [
        {
          "output_type": "stream",
          "text": [
            "Go to this URL in a browser: https://accounts.google.com/o/oauth2/auth?client_id=947318989803-6bn6qk8qdgf4n4g3pfee6491hc0brc4i.apps.googleusercontent.com&redirect_uri=urn%3aietf%3awg%3aoauth%3a2.0%3aoob&response_type=code&scope=email%20https%3a%2f%2fwww.googleapis.com%2fauth%2fdocs.test%20https%3a%2f%2fwww.googleapis.com%2fauth%2fdrive%20https%3a%2f%2fwww.googleapis.com%2fauth%2fdrive.photos.readonly%20https%3a%2f%2fwww.googleapis.com%2fauth%2fpeopleapi.readonly\n",
            "\n",
            "Enter your authorization code:\n",
            "··········\n",
            "Mounted at /content/drive\n"
          ],
          "name": "stdout"
        }
      ]
    },
    {
      "cell_type": "code",
      "metadata": {
        "id": "NTZUY5-4RkgT",
        "colab_type": "code",
        "colab": {
          "base_uri": "https://localhost:8080/",
          "height": 373
        },
        "outputId": "526fb25b-4052-42cd-8026-185c6fb5d32a"
      },
      "source": [
        "from model_tf_keras import *\n",
        "from functions import *\n",
        "import warnings\n",
        "warnings.filterwarnings('ignore')\n",
        "\n",
        "dirName = Path('/content/drive/My Drive/MITO_FIBERS_x63/Segmentation_Unet/Data/63x')\n",
        "mask_folder = Path('/content/drive/My Drive/MITO_FIBERS_x63/Segmentation_Unet/Data/Segmentation_Masks/63x')\n",
        "model_path = '/content/drive/My Drive/MITO_FIBERS_x63/Segmentation_Unet/Models/unet_10x63x_10ep_10ep_200steps.hdf5'\n",
        "listOfFiles = list()\n",
        "for (dirpath, dirnames, filenames) in os.walk(dirName):\n",
        "    listOfFiles += [os.path.join(dirpath, file) for file in filenames if file.endswith('.lif')]\n",
        "model = unet()\n",
        "model.load_weights(model_path)\n",
        "for filepath in listOfFiles:\n",
        "    print(filepath)\n",
        "    if filepath.endswith('.lif'):\n",
        "        r,b = readLIF(filepath, 0, 8)\n",
        "        r = skimage.transform.resize(r, (256,256))\n",
        "        b = skimage.transform.resize(b, (256,256))\n",
        "        img = np.stack((r,b), axis = 2)\n",
        "        img = np.reshape(img,(1,)+img.shape) \n",
        "\n",
        "        results = model.predict(img,verbose=1)\n",
        "        image = np.reshape(results,(256,256))\n",
        "        image = (image*255).astype('uint8')\n",
        "        \n",
        "        path, filename = os.path.split(filepath)\n",
        "        result_path = os.path.join(mask_folder,str(filename[:-4])+'.png')\n",
        "        try:\n",
        "            io.imsave(result_path,image)\n",
        "            print('File saved: '+str(result_path))\n",
        "        except:\n",
        "            print('Error')"
      ],
      "execution_count": 3,
      "outputs": [
        {
          "output_type": "error",
          "ename": "ModuleNotFoundError",
          "evalue": "ignored",
          "traceback": [
            "\u001b[0;31m---------------------------------------------------------------------------\u001b[0m",
            "\u001b[0;31mModuleNotFoundError\u001b[0m                       Traceback (most recent call last)",
            "\u001b[0;32m<ipython-input-3-61f9ffb02bda>\u001b[0m in \u001b[0;36m<module>\u001b[0;34m()\u001b[0m\n\u001b[0;32m----> 1\u001b[0;31m \u001b[0;32mfrom\u001b[0m \u001b[0mmodel_tf_keras\u001b[0m \u001b[0;32mimport\u001b[0m \u001b[0;34m*\u001b[0m\u001b[0;34m\u001b[0m\u001b[0;34m\u001b[0m\u001b[0m\n\u001b[0m\u001b[1;32m      2\u001b[0m \u001b[0;32mfrom\u001b[0m \u001b[0mfunctions\u001b[0m \u001b[0;32mimport\u001b[0m \u001b[0;34m*\u001b[0m\u001b[0;34m\u001b[0m\u001b[0;34m\u001b[0m\u001b[0m\n\u001b[1;32m      3\u001b[0m \u001b[0;32mimport\u001b[0m \u001b[0mwarnings\u001b[0m\u001b[0;34m\u001b[0m\u001b[0;34m\u001b[0m\u001b[0m\n\u001b[1;32m      4\u001b[0m \u001b[0mwarnings\u001b[0m\u001b[0;34m.\u001b[0m\u001b[0mfilterwarnings\u001b[0m\u001b[0;34m(\u001b[0m\u001b[0;34m'ignore'\u001b[0m\u001b[0;34m)\u001b[0m\u001b[0;34m\u001b[0m\u001b[0;34m\u001b[0m\u001b[0m\n\u001b[1;32m      5\u001b[0m \u001b[0;34m\u001b[0m\u001b[0m\n",
            "\u001b[0;31mModuleNotFoundError\u001b[0m: No module named 'model_tf_keras'",
            "",
            "\u001b[0;31m---------------------------------------------------------------------------\u001b[0;32m\nNOTE: If your import is failing due to a missing package, you can\nmanually install dependencies using either !pip or !apt.\n\nTo view examples of installing some common dependencies, click the\n\"Open Examples\" button below.\n\u001b[0;31m---------------------------------------------------------------------------\u001b[0m\n"
          ]
        }
      ]
    },
    {
      "cell_type": "code",
      "metadata": {
        "id": "7pnMxBtqSUbm",
        "colab_type": "code",
        "colab": {}
      },
      "source": [
        ""
      ],
      "execution_count": 0,
      "outputs": []
    }
  ]
}